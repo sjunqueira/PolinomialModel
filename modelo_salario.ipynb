{
 "cells": [
  {
   "cell_type": "code",
   "execution_count": null,
   "metadata": {},
   "outputs": [],
   "source": [
    "# pip install scikit-learn scipy pandas matplotlib seaborn ipykernel pingouin fastapi streamlit pydantic uvicorn requests"
   ]
  }
 ],
 "metadata": {
  "language_info": {
   "name": "python"
  }
 },
 "nbformat": 4,
 "nbformat_minor": 2
}
